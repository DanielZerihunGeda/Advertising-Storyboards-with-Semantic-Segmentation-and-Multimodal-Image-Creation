{
 "cells": [
  {
   "cell_type": "code",
   "execution_count": 1,
   "metadata": {},
   "outputs": [
    {
     "name": "stderr",
     "output_type": "stream",
     "text": [
      "2024-02-14 10:52:31.935816: I external/local_tsl/tsl/cuda/cudart_stub.cc:31] Could not find cuda drivers on your machine, GPU will not be used.\n",
      "2024-02-14 10:52:38.293836: E external/local_xla/xla/stream_executor/cuda/cuda_dnn.cc:9261] Unable to register cuDNN factory: Attempting to register factory for plugin cuDNN when one has already been registered\n",
      "2024-02-14 10:52:38.293966: E external/local_xla/xla/stream_executor/cuda/cuda_fft.cc:607] Unable to register cuFFT factory: Attempting to register factory for plugin cuFFT when one has already been registered\n",
      "2024-02-14 10:52:38.598728: E external/local_xla/xla/stream_executor/cuda/cuda_blas.cc:1515] Unable to register cuBLAS factory: Attempting to register factory for plugin cuBLAS when one has already been registered\n",
      "2024-02-14 10:52:39.421541: I external/local_tsl/tsl/cuda/cudart_stub.cc:31] Could not find cuda drivers on your machine, GPU will not be used.\n",
      "2024-02-14 10:52:41.635016: W tensorflow/compiler/tf2tensorrt/utils/py_utils.cc:38] TF-TRT Warning: Could not find TensorRT\n"
     ]
    },
    {
     "ename": "ModuleNotFoundError",
     "evalue": "No module named 'cv2'",
     "output_type": "error",
     "traceback": [
      "\u001b[0;31m---------------------------------------------------------------------------\u001b[0m",
      "\u001b[0;31mModuleNotFoundError\u001b[0m                       Traceback (most recent call last)",
      "Cell \u001b[0;32mIn[1], line 3\u001b[0m\n\u001b[1;32m      1\u001b[0m \u001b[38;5;28;01mimport\u001b[39;00m \u001b[38;5;21;01mtensorflow\u001b[39;00m \u001b[38;5;28;01mas\u001b[39;00m \u001b[38;5;21;01mtf\u001b[39;00m\n\u001b[1;32m      2\u001b[0m \u001b[38;5;28;01mimport\u001b[39;00m \u001b[38;5;21;01mtensorflow_hub\u001b[39;00m \u001b[38;5;28;01mas\u001b[39;00m \u001b[38;5;21;01mhub\u001b[39;00m\n\u001b[0;32m----> 3\u001b[0m \u001b[38;5;28;01mimport\u001b[39;00m \u001b[38;5;21;01mcv2\u001b[39;00m\n\u001b[1;32m      5\u001b[0m \u001b[38;5;66;03m# Load DeepLabV3+ from TensorFlow Hub\u001b[39;00m\n\u001b[1;32m      6\u001b[0m DEEPLAB_MODEL_URL \u001b[38;5;241m=\u001b[39m \u001b[38;5;124m'\u001b[39m\u001b[38;5;124mhttps://tfhub.dev/google/deeplabv3p/mobilenet_v3_large/1\u001b[39m\u001b[38;5;124m'\u001b[39m\n",
      "\u001b[0;31mModuleNotFoundError\u001b[0m: No module named 'cv2'"
     ]
    }
   ],
   "source": [
    "import tensorflow as tf\n",
    "import tensorflow_hub as hub\n",
    "import cv2\n",
    "\n",
    "# Load DeepLabV3+ from TensorFlow Hub\n",
    "DEEPLAB_MODEL_URL = 'https://tfhub.dev/google/deeplabv3p/mobilenet_v3_large/1'\n",
    "deeplab = hub.load(DEEPLAB_MODEL_URL)\n",
    "\n",
    "# Resize function for images\n",
    "def resize_image(image, target_size=(512, 512)):\n",
    "    return tf.image.resize(image, target_size)\n",
    "\n",
    "# Resize function for segmentation masks\n",
    "def resize_mask(mask, target_size=(512, 512)):\n",
    "    return tf.image.resize(mask, target_size, method=tf.image.ResizeMethod.NEAREST_NEIGHBOR)\n",
    "\n",
    "# Perform inference on a single image\n",
    "def perform_inference(image_path, target_size=(512, 512)):\n",
    "    # Read the image using OpenCV\n",
    "    image = cv2.imread(image_path)\n",
    "\n",
    "    # Preprocess the image (resize)\n",
    "    image_resized = resize_image(image, target_size)\n",
    "\n",
    "    # Perform inference on the resized image\n",
    "    segmentation_mask = deeplab(tf.expand_dims(image_resized, axis=0))['segmentation_mask'][0]\n",
    "\n",
    "    # Resize the segmentation mask to match the original image dimensions\n",
    "    segmentation_mask_resized = resize_mask(segmentation_mask, (image.shape[1], image.shape[0]))\n",
    "\n",
    "    return image, segmentation_mask_resized"
   ]
  },
  {
   "cell_type": "code",
   "execution_count": null,
   "metadata": {},
   "outputs": [],
   "source": [
    "image_path = 'path_to_your_image.jpg'  # Replace with the path to your image\n",
    "image, segmentation_mask = perform_inference(image_path)\n",
    "\n",
    "# Display the original image and segmentation mask\n",
    "cv2.imshow('Original Image', image)\n",
    "cv2.imshow('Segmentation Mask', segmentation_mask.numpy().astype(np.uint8) * 255)\n",
    "cv2.waitKey(0)\n",
    "cv2.destroyAllWindows()"
   ]
  }
 ],
 "metadata": {
  "kernelspec": {
   "display_name": "venv",
   "language": "python",
   "name": "python3"
  },
  "language_info": {
   "codemirror_mode": {
    "name": "ipython",
    "version": 3
   },
   "file_extension": ".py",
   "mimetype": "text/x-python",
   "name": "python",
   "nbconvert_exporter": "python",
   "pygments_lexer": "ipython3",
   "version": "3.10.12"
  }
 },
 "nbformat": 4,
 "nbformat_minor": 2
}
